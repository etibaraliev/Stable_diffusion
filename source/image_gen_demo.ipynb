{
  "cells": [
    {
      "cell_type": "code",
      "execution_count": 1,
      "metadata": {},
      "outputs": [
        {
          "name": "stderr",
          "output_type": "stream",
          "text": [
            "/var/folders/68/b2tvg9ls7f77_byjqk3n671h0000gn/T/ipykernel_1013/139742320.py:15: UserWarning: 'has_mps' is deprecated, please use 'torch.backends.mps.is_built()'\n",
            "  elif (torch.has_mps or torch.backends.mps.is_available()) and ALLOW_MPS:\n"
          ]
        },
        {
          "name": "stdout",
          "output_type": "stream",
          "text": [
            "Using device: cpu\n"
          ]
        },
        {
          "name": "stderr",
          "output_type": "stream",
          "text": [
            "100%|██████████| 50/50 [05:45<00:00,  6.91s/it]\n"
          ]
        }
      ],
      "source": [
        "import model_loader\n",
        "import pipeline\n",
        "from PIL import Image\n",
        "from pathlib import Path\n",
        "from transformers import CLIPTokenizer\n",
        "import torch\n",
        "\n",
        "def generate_image(prompt, uncond_prompt, input_image, strength, do_cfg, cfg_scale, sampler, num_inference_steps, seed):\n",
        "    DEVICE = \"cpu\"\n",
        "    ALLOW_CUDA = False\n",
        "    ALLOW_MPS = False\n",
        "\n",
        "    if torch.cuda.is_available() and ALLOW_CUDA:\n",
        "        DEVICE = \"cuda\"\n",
        "    elif (torch.has_mps or torch.backends.mps.is_available()) and ALLOW_MPS:\n",
        "        DEVICE = \"mps\"\n",
        "    \n",
        "    print(f\"Using device: {DEVICE}\")\n",
        "\n",
        "    tokenizer = CLIPTokenizer(\"../data/vocab.json\", merges_file=\"../data/merges.txt\")\n",
        "    model_file = \"../data/v1-5-pruned-emaonly.ckpt\"\n",
        "    models = model_loader.preload_models_from_standard_weights(model_file, DEVICE)\n",
        "\n",
        "    # Comment to disable image to image\n",
        "    image_path = \"../images/Al_Pacino.jpg\"\n",
        "\n",
        "    output_image = pipeline.generate(\n",
        "        prompt=prompt,\n",
        "        uncond_prompt=uncond_prompt,\n",
        "        input_image=input_image,\n",
        "        strength=strength,\n",
        "        do_cfg=do_cfg,\n",
        "        cfg_scale=cfg_scale,\n",
        "        sampler_name=sampler,\n",
        "        n_inference_steps=num_inference_steps,\n",
        "        seed=seed,\n",
        "        models=models,\n",
        "        device=DEVICE,\n",
        "        idle_device=\"cpu\",\n",
        "        tokenizer=tokenizer,\n",
        "    )\n",
        "\n",
        "    return Image.fromarray(output_image)\n",
        "\n",
        "# Example usage:\n",
        "prompt = \"Al Pacino with glasses\"\n",
        "uncond_prompt = \"\"\n",
        "input_image = None\n",
        "strength = 0.9\n",
        "do_cfg = True\n",
        "cfg_scale = 8\n",
        "sampler = \"ddpm\"\n",
        "num_inference_steps = 50\n",
        "seed = 42\n",
        "\n",
        "output_image = generate_image(prompt, uncond_prompt, input_image, strength, do_cfg, cfg_scale, sampler, num_inference_steps, seed)\n",
        "output_image.show()\n"
      ]
    },
    {
      "cell_type": "code",
      "execution_count": 2,
      "metadata": {},
      "outputs": [],
      "source": [
        "output_image.save(\"../images/Generated_Al_Pacino.jpg\")"
      ]
    },
    {
      "cell_type": "code",
      "execution_count": null,
      "metadata": {},
      "outputs": [],
      "source": []
    }
  ],
  "metadata": {
    "accelerator": "GPU",
    "colab": {
      "collapsed_sections": [
        "iDI2dKfRWTId"
      ],
      "provenance": []
    },
    "gpuClass": "standard",
    "kernelspec": {
      "display_name": "Python 3",
      "name": "python3"
    },
    "language_info": {
      "codemirror_mode": {
        "name": "ipython",
        "version": 3
      },
      "file_extension": ".py",
      "mimetype": "text/x-python",
      "name": "python",
      "nbconvert_exporter": "python",
      "pygments_lexer": "ipython3",
      "version": "3.11.5"
    }
  },
  "nbformat": 4,
  "nbformat_minor": 0
}
